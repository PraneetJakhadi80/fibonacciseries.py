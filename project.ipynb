{
  "nbformat": 4,
  "nbformat_minor": 0,
  "metadata": {
    "colab": {
      "name": "Untitled0.ipynb",
      "provenance": [],
      "authorship_tag": "ABX9TyNmzZbo4EupVczfN39wibAS",
      "include_colab_link": true
    },
    "kernelspec": {
      "name": "python3",
      "display_name": "Python 3"
    },
    "language_info": {
      "name": "python"
    }
  },
  "cells": [
    {
      "cell_type": "markdown",
      "metadata": {
        "id": "view-in-github",
        "colab_type": "text"
      },
      "source": [
        "<a href=\"https://colab.research.google.com/github/PraneetJakhadi80/fibonacciseries.py/blob/main/project.ipynb\" target=\"_parent\"><img src=\"https://colab.research.google.com/assets/colab-badge.svg\" alt=\"Open In Colab\"/></a>"
      ]
    },
    {
      "cell_type": "code",
      "metadata": {
        "colab": {
          "base_uri": "https://localhost:8080/"
        },
        "id": "f977YNtChdua",
        "outputId": "08786429-978c-49b2-bc86-bb1d41850e02"
      },
      "source": [
        "import sys\n",
        "print('python : {}'.format(sys.version))\n",
        "import scipy\n",
        "print('scipy : {}'.format(sys.version))\n",
        "import numpy\n",
        "print('numpy : {}'.format(sys.version))\n",
        "import matplotlib\n",
        "print('matplotlib : {}'.format(sys.version))\n",
        "import sklearn\n",
        "print('sklearn : {}'.format(sys.version))\n",
        "import pandas\n",
        "print('pandas : {}'.format(sys.version))"
      ],
      "execution_count": 1,
      "outputs": [
        {
          "output_type": "stream",
          "text": [
            "python : 3.7.10 (default, Feb 20 2021, 21:17:23) \n",
            "[GCC 7.5.0]\n",
            "scipy : 3.7.10 (default, Feb 20 2021, 21:17:23) \n",
            "[GCC 7.5.0]\n",
            "numpy : 3.7.10 (default, Feb 20 2021, 21:17:23) \n",
            "[GCC 7.5.0]\n",
            "matplotlib : 3.7.10 (default, Feb 20 2021, 21:17:23) \n",
            "[GCC 7.5.0]\n",
            "sklearn : 3.7.10 (default, Feb 20 2021, 21:17:23) \n",
            "[GCC 7.5.0]\n",
            "pandas : 3.7.10 (default, Feb 20 2021, 21:17:23) \n",
            "[GCC 7.5.0]\n"
          ],
          "name": "stdout"
        }
      ]
    },
    {
      "cell_type": "code",
      "metadata": {
        "id": "bHlTzsNIi1Eb"
      },
      "source": [
        "import pandas\n",
        "from pandas import read_csv\n",
        "from pandas.plotting import scatter_matrix\n",
        "from matplotlib import pyplot\n",
        "from sklearn.model_selection import train_test_split,cross_val_score,StratifiedKFold\n",
        "from sklearn.metrics import classification_report,confusion_matrix,accuracy_score\n",
        "from sklearn.linear_model import LogisticRegression\n",
        "from sklearn.tree import DecisionTreeClassifier\n",
        "from sklearn.neighbors import KNeighborsClassifier\n",
        "from sklearn.discriminant_analysis import LinearDiscriminantAnalysis\n",
        "from sklearn.naive_bayes import GaussianNB\n",
        "from sklearn.svm import SVC\n",
        "from sklearn import model_selection\n",
        "from sklearn.ensemble import VotingClassifier"
      ],
      "execution_count": 2,
      "outputs": []
    },
    {
      "cell_type": "code",
      "metadata": {
        "id": "TqVBcid7LXck"
      },
      "source": [
        "url='https://raw.githubusercontent.com/jbrownlee/Datasets/master.iris.csv'\n",
        "names = ['sepal-length','sepal-width','petal-length','petal-width','class']\n",
        "dataset=read_csv(url,names=names)"
      ],
      "execution_count": null,
      "outputs": []
    },
    {
      "cell_type": "code",
      "metadata": {
        "id": "xoFDEblFL3i9"
      },
      "source": [
        "print(dataset.shape)"
      ],
      "execution_count": null,
      "outputs": []
    },
    {
      "cell_type": "code",
      "metadata": {
        "id": "dqn3D-zNNo9x"
      },
      "source": [
        "print(dataset.head(20))"
      ],
      "execution_count": null,
      "outputs": []
    },
    {
      "cell_type": "code",
      "metadata": {
        "id": "yYC-jk2RNu9t"
      },
      "source": [
        "print(dataset.describe())"
      ],
      "execution_count": null,
      "outputs": []
    },
    {
      "cell_type": "code",
      "metadata": {
        "id": "Rix0CAI1NwAy"
      },
      "source": [
        "print(datsaset.groupby('class').size())"
      ],
      "execution_count": null,
      "outputs": []
    },
    {
      "cell_type": "code",
      "metadata": {
        "id": "-CJPefsgNv9c"
      },
      "source": [
        "dataset.plot(kind='box',subplots=True,layout=(2,2),sharex=False,sharey=False)\n",
        "pyplot.show()"
      ],
      "execution_count": null,
      "outputs": []
    },
    {
      "cell_type": "code",
      "metadata": {
        "id": "G3Q_h1bpOoN0"
      },
      "source": [
        "dataset.hist()\n",
        "pyplot.show()"
      ],
      "execution_count": null,
      "outputs": []
    },
    {
      "cell_type": "code",
      "metadata": {
        "id": "mjvGgYHUOoLP"
      },
      "source": [
        "scatter_matrix(dataset)\n",
        "pyplot.show()"
      ],
      "execution_count": null,
      "outputs": []
    },
    {
      "cell_type": "code",
      "metadata": {
        "id": "L9DImBDyO532"
      },
      "source": [
        "array=dataset.values\n",
        "x=array[:,0:4]\n",
        "y=array[:,4]\n",
        "x_train,x_val,y_train,y_val=train_test_split(x,y,test_size=0.2,random_state=1)"
      ],
      "execution_count": null,
      "outputs": []
    },
    {
      "cell_type": "code",
      "metadata": {
        "id": "I3SyFF4_Pvv8"
      },
      "source": [
        "model=[]\n",
        "model.append(('LR',LogisticRegression(solver='liblinear',multi_class='ovr')))\n",
        "model.append(('LDA',LinearDiscriminantAnalysis()))\n",
        "model.append(('KNN',KNeighborsClassifier()))\n",
        "model.append(('NB',GaussianNB()))\n",
        "model.append(('SVM',SVC(gamma='auto')))"
      ],
      "execution_count": null,
      "outputs": []
    },
    {
      "cell_type": "code",
      "metadata": {
        "id": "eO5hsWvbQsGp"
      },
      "source": [
        "result=[]\n",
        "names=[]\n",
        "for name,model in models:\n",
        "  kfold=StratifiedKFold(n_splits=10, random_state=1)\n",
        "  cv_results=cross_val_score(model, x_train, y_train, groups=None, scoring='accuracy', cv=kfold )\n",
        "  result.append(cv_results)\n",
        "  names.append(name)\n",
        "  print('%s: %f (%f) ' % (name,cv_results.mean(),cv_results.std()))"
      ],
      "execution_count": null,
      "outputs": []
    },
    {
      "cell_type": "code",
      "metadata": {
        "id": "xAzxCdjeQsEI"
      },
      "source": [
        "pyplot.boxplot(results,labels=names)\n",
        "pyplot.title('algo  comp ')\n",
        "pyplot.show()"
      ],
      "execution_count": null,
      "outputs": []
    },
    {
      "cell_type": "code",
      "metadata": {
        "id": "Lh2wPuJmQr_Q"
      },
      "source": [
        "model=SVC(gamma='auto')\n",
        "model.fit(x_train,y_train)\n",
        "predictions=model_selection(x_val)"
      ],
      "execution_count": null,
      "outputs": []
    },
    {
      "cell_type": "code",
      "metadata": {
        "id": "3EN34LyMQr1W"
      },
      "source": [
        "print(accuracy_score(x_val,predictions))\n",
        "print(confusion_matrix(x_val,predictions))\n",
        "print(classification_report(x_val,predictions))"
      ],
      "execution_count": null,
      "outputs": []
    }
  ]
}